{
 "metadata": {
  "language_info": {
   "codemirror_mode": {
    "name": "ipython",
    "version": 3
   },
   "file_extension": ".py",
   "mimetype": "text/x-python",
   "name": "python",
   "nbconvert_exporter": "python",
   "pygments_lexer": "ipython3",
   "version": "3.7.6-final"
  },
  "orig_nbformat": 2,
  "kernelspec": {
   "name": "python3",
   "display_name": "Python 3",
   "language": "python"
  }
 },
 "nbformat": 4,
 "nbformat_minor": 2,
 "cells": [
  {
   "source": [
    "# TODO check lit function\n",
    "# TODO check agg function\n",
    "# TODO flightsDF.sample(False, 0.1).take(2)\n",
    "# TODO countDistinct()\n",
    "# TODO from pyspark.sql.functions import count, round\n",
    "# TODO When otherwise\n",
    "# TODO from pyspark.sql.functions import max, min, avg, stddev\n",
    "# TODO cast, join, limit, pivot, withColumnRenamed\n",
    "# TODO Create manual DataFrame\n",
    "# TODO .toPandas()\n",
    "\n",
    "# TODO write introduction with goals set and what could be improved in the future\n",
    "        # not only copy paste from stack overflow, profssor, but understand the code, play around with function-parameters from professor\n",
    "        # use code from the book \"Spark - The Definitive Guide\" by Bill Chambers and Matei Zaharia -> i have bought it because I am such a Nerd\n",
    "        # have a well commented/documented & modular code \n",
    "        # create some useful functions and automate as much as possible\n",
    "        # use all of the following capabilities:\n",
    "        # flightsDF.sample(False, 0.1).take(2)\n",
    "        #  "
   ],
   "cell_type": "code",
   "metadata": {},
   "execution_count": 1,
   "outputs": []
  },
  {
   "source": [
    "# Spark Individual Assignment - Maximilian Pichler - MBD2020\n",
    "\n",
    "As part of our Spark Class, we have learned how to use the pyhton API \"pyspark\" to perform dataprocessing with spark.\n",
    "\n",
    "This is the notebook used for the analysis and processing of the hotel dataset from [kaggle.com](https://www.kaggle.com/jessemostipak/hotel-booking-demand)\n",
    "\n",
    "\n",
    "## Content\n",
    "### Import libraries\n",
    "    - pyspark\n",
    "    - KaggleAPI\n",
    "    \n",
    "### Import data\n",
    "    - via CSV\n",
    "    - via Kaggle API\n",
    "\n",
    "### Perform basic EDA\n",
    "    - infer schema from dataset\n",
    "    - get shape of dataset\n",
    "    - identify entities, metrics and dimesions\n",
    "    - categorize columns\n",
    "\n",
    "### Perform basic profiling based on previous grouping\n",
    "    - count and display unique values\n",
    "    - create summary statistics of numeric columns\n",
    "### Answer Business Questions:\n",
    "    - Question 1: what are our most profitable customers\n",
    "    - Question 2: at what time do we get the most profitable bookings\n",
    "    - Question 3: what are features of bookings that take long (waitinglist)"
   ],
   "cell_type": "markdown",
   "metadata": {}
  },
  {
   "cell_type": "code",
   "execution_count": 2,
   "metadata": {},
   "outputs": [],
   "source": [
    "import findspark\n",
    "findspark.init()\n",
    "from pyspark.context import SparkContext\n",
    "from pyspark.sql.session import SparkSession\n",
    "from pyspark.sql.functions import when, count, col, countDistinct, desc, asc, first, lit, round, date_format, concat_ws, to_date, date_add, expr, month\n",
    "from pyspark.sql.types import IntegerType, DoubleType, StringType, DateType, Row\n",
    "from pathlib import Path\n",
    "from IPython.display import display, Markdown\n",
    "\n",
    "sc = SparkContext.getOrCreate()\n",
    "spark = SparkSession(sc)\n"
   ]
  },
  {
   "source": [
    "# Import Data\n"
   ],
   "cell_type": "markdown",
   "metadata": {}
  },
  {
   "cell_type": "code",
   "execution_count": 3,
   "metadata": {},
   "outputs": [],
   "source": [
    "data_df = spark.read \\\n",
    "                 .option(\"inferSchema\", \"true\") \\\n",
    "                 .option(\"header\", \"true\") \\\n",
    "                 .csv('Data/Spark Lab/Individual Assignment/hotel_bookings.csv')\n",
    "#data_df.cache()"
   ]
  },
  {
   "cell_type": "code",
   "execution_count": 4,
   "metadata": {},
   "outputs": [
    {
     "output_type": "stream",
     "name": "stdout",
     "text": [
      "printing the schema of the dataset\n",
      "root\n",
      " |-- hotel: string (nullable = true)\n",
      " |-- is_canceled: integer (nullable = true)\n",
      " |-- lead_time: integer (nullable = true)\n",
      " |-- arrival_date_year: integer (nullable = true)\n",
      " |-- arrival_date_month: string (nullable = true)\n",
      " |-- arrival_date_week_number: integer (nullable = true)\n",
      " |-- arrival_date_day_of_month: integer (nullable = true)\n",
      " |-- stays_in_weekend_nights: integer (nullable = true)\n",
      " |-- stays_in_week_nights: integer (nullable = true)\n",
      " |-- adults: integer (nullable = true)\n",
      " |-- children: string (nullable = true)\n",
      " |-- babies: integer (nullable = true)\n",
      " |-- meal: string (nullable = true)\n",
      " |-- country: string (nullable = true)\n",
      " |-- market_segment: string (nullable = true)\n",
      " |-- distribution_channel: string (nullable = true)\n",
      " |-- is_repeated_guest: integer (nullable = true)\n",
      " |-- previous_cancellations: integer (nullable = true)\n",
      " |-- previous_bookings_not_canceled: integer (nullable = true)\n",
      " |-- reserved_room_type: string (nullable = true)\n",
      " |-- assigned_room_type: string (nullable = true)\n",
      " |-- booking_changes: integer (nullable = true)\n",
      " |-- deposit_type: string (nullable = true)\n",
      " |-- agent: string (nullable = true)\n",
      " |-- company: string (nullable = true)\n",
      " |-- days_in_waiting_list: integer (nullable = true)\n",
      " |-- customer_type: string (nullable = true)\n",
      " |-- adr: double (nullable = true)\n",
      " |-- required_car_parking_spaces: integer (nullable = true)\n",
      " |-- total_of_special_requests: integer (nullable = true)\n",
      " |-- reservation_status: string (nullable = true)\n",
      " |-- reservation_status_date: string (nullable = true)\n",
      "\n",
      "the dataset consists of 119390 rows\n",
      "printing null values per column\n",
      "+-----+-----------+---------+-----------------+------------------+------------------------+-------------------------+-----------------------+--------------------+------+\n",
      "|hotel|is_canceled|lead_time|arrival_date_year|arrival_date_month|arrival_date_week_number|arrival_date_day_of_month|stays_in_weekend_nights|stays_in_week_nights|adults|\n",
      "+-----+-----------+---------+-----------------+------------------+------------------------+-------------------------+-----------------------+--------------------+------+\n",
      "|    0|          0|        0|                0|                 0|                       0|                        0|                      0|                   0|     0|\n",
      "+-----+-----------+---------+-----------------+------------------+------------------------+-------------------------+-----------------------+--------------------+------+\n",
      "\n",
      "+--------+------+----+-------+--------------+--------------------+-----------------+----------------------+------------------------------+\n",
      "|children|babies|meal|country|market_segment|distribution_channel|is_repeated_guest|previous_cancellations|previous_bookings_not_canceled|\n",
      "+--------+------+----+-------+--------------+--------------------+-----------------+----------------------+------------------------------+\n",
      "|       0|     0|   0|      0|             0|                   0|                0|                     0|                             0|\n",
      "+--------+------+----+-------+--------------+--------------------+-----------------+----------------------+------------------------------+\n",
      "\n",
      "+------------------+------------------+---------------+------------+-----+-------+--------------------+-------------+---+---------------------------+\n",
      "|reserved_room_type|assigned_room_type|booking_changes|deposit_type|agent|company|days_in_waiting_list|customer_type|adr|required_car_parking_spaces|\n",
      "+------------------+------------------+---------------+------------+-----+-------+--------------------+-------------+---+---------------------------+\n",
      "|                 0|                 0|              0|           0|    0|      0|                   0|            0|  0|                          0|\n",
      "+------------------+------------------+---------------+------------+-----+-------+--------------------+-------------+---+---------------------------+\n",
      "\n",
      "+-------------------------+------------------+-----------------------+\n",
      "|total_of_special_requests|reservation_status|reservation_status_date|\n",
      "+-------------------------+------------------+-----------------------+\n",
      "|                        0|                 0|                      0|\n",
      "+-------------------------+------------------+-----------------------+\n",
      "\n"
     ]
    }
   ],
   "source": [
    "# assigning the schema and column names to variables\n",
    "schema = data_df.schema\n",
    "columns = data_df.schema.names\n",
    "total_bookings = data_df.count()\n",
    "\n",
    "\n",
    "print('printing the schema of the dataset')\n",
    "data_df.printSchema()\n",
    "\n",
    "print(f'the dataset consists of {total_bookings} rows')\n",
    "\n",
    "# TODO Typecasts\n",
    "# TODO change some columnnames\n",
    "# TODO delete some column\n",
    "\n",
    "print('printing null values per column')\n",
    "# thank you Raúl for this line of code!\n",
    "# it took a while to understand it, it is genius!\n",
    "data_df.select([count(when(col(c).isNull(), c)).alias(c) for c in columns[:10]]).show()             \n",
    "data_df.select([count(when(col(c).isNull(), c)).alias(c) for c in columns[10:19]]).show()\n",
    "data_df.select([count(when(col(c).isNull(), c)).alias(c) for c in columns[19:29]]).show()\n",
    "data_df.select([count(when(col(c).isNull(), c)).alias(c) for c in columns[29:]]).show()\n"
   ]
  },
  {
   "source": [
    "In this data set, consisting of 119.390 rows we can see a mix of integer-, double- and string-type data. The initial check for NULL values (with .isNull()) suggested that there are no missing values. However, running the code again with == 'NULL' we can see that the columns \"company\", \"agent\", and \"country\" have some missing values."
   ],
   "cell_type": "markdown",
   "metadata": {}
  },
  {
   "cell_type": "code",
   "execution_count": 5,
   "metadata": {},
   "outputs": [
    {
     "output_type": "stream",
     "name": "stdout",
     "text": [
      "printing null values per column\n",
      "+-----+-----------+---------+-----------------+------------------+------------------------+-------------------------+-----------------------+--------------------+------+\n",
      "|hotel|is_canceled|lead_time|arrival_date_year|arrival_date_month|arrival_date_week_number|arrival_date_day_of_month|stays_in_weekend_nights|stays_in_week_nights|adults|\n",
      "+-----+-----------+---------+-----------------+------------------+------------------------+-------------------------+-----------------------+--------------------+------+\n",
      "|    0|          0|        0|                0|                 0|                       0|                        0|                      0|                   0|     0|\n",
      "+-----+-----------+---------+-----------------+------------------+------------------------+-------------------------+-----------------------+--------------------+------+\n",
      "\n",
      "+--------+------+----+-------+--------------+--------------------+-----------------+----------------------+------------------------------+\n",
      "|children|babies|meal|country|market_segment|distribution_channel|is_repeated_guest|previous_cancellations|previous_bookings_not_canceled|\n",
      "+--------+------+----+-------+--------------+--------------------+-----------------+----------------------+------------------------------+\n",
      "|       0|     0|   0|    488|             0|                   0|                0|                     0|                             0|\n",
      "+--------+------+----+-------+--------------+--------------------+-----------------+----------------------+------------------------------+\n",
      "\n",
      "+------------------+------------------+---------------+------------+-----+-------+--------------------+-------------+---+---------------------------+\n",
      "|reserved_room_type|assigned_room_type|booking_changes|deposit_type|agent|company|days_in_waiting_list|customer_type|adr|required_car_parking_spaces|\n",
      "+------------------+------------------+---------------+------------+-----+-------+--------------------+-------------+---+---------------------------+\n",
      "|                 0|                 0|              0|           0|16340| 112593|                   0|            0|  0|                          0|\n",
      "+------------------+------------------+---------------+------------+-----+-------+--------------------+-------------+---+---------------------------+\n",
      "\n",
      "+-------------------------+------------------+-----------------------+\n",
      "|total_of_special_requests|reservation_status|reservation_status_date|\n",
      "+-------------------------+------------------+-----------------------+\n",
      "|                        0|                 0|                      0|\n",
      "+-------------------------+------------------+-----------------------+\n",
      "\n"
     ]
    }
   ],
   "source": [
    "print('printing null values per column')\n",
    "# thank you Raúl for this line of code!\n",
    "# it took a while to understand it, it is genius!\n",
    "data_df.select([count(when(col(c).isNull() | (col(c) == \"NULL\"), c)).alias(c) for c in columns[:10]]).show()             \n",
    "data_df.select([count(when(col(c).isNull() | (col(c) == \"NULL\"), c)).alias(c) for c in columns[10:19]]).show()\n",
    "data_df.select([count(when(col(c).isNull() | (col(c) == \"NULL\"), c)).alias(c) for c in columns[19:29]]).show()\n",
    "data_df.select([count(when(col(c).isNull() | (col(c) == \"NULL\"), c)).alias(c) for c in columns[29:]]).show()"
   ]
  },
  {
   "source": [
    "Next, lets try to define some groups of columns. For this reason, we will first check [the datasource](https://www.kaggle.com/jessemostipak/hotel-booking-demand) and get ourselves familiar with the contents of each column:\n",
    "\n",
    "- 'hotel' - Category telling us whether it is a Resort Hotel or a City Hotel.\n",
    "- 'is_canceled' - indication whether the booking was cancelled\n",
    "- 'lead_time' - time between booking and the arrival date\n",
    "- 'arrival_date_year' - Year of arrival\n",
    "- 'arrival_date_month' - month of arrival\n",
    "- 'arrival_date_week_number' - day of week of arrival\n",
    "- 'arrival_date_day_of_month' - day of month of arrival\n",
    "- 'stays_in_weekend_nights' - number of weekend nights of the stay\n",
    "- 'stays_in_week_nights' - number of nights of the stay\n",
    "- 'adults' - number of adults\n",
    "- 'children' - number of children\n",
    "- 'babies' - number of babies\n",
    "- 'meal' - type of meal booked (BB, HB, FB, SC/Undefined)\n",
    "- 'country' - Country of origin\n",
    "- 'market_segment' - Market Segments (TA = Travel Agent)\n",
    "- 'distribution_channel' - booking distribution channel\n",
    "- 'is_repeated_guest' - whether the guest had previous bookings\n",
    "- 'previous_cancellations' - whether the guest had previous chancellations\n",
    "- 'previous_bookings_not_canceled' - whether the guest had previous bookings that where not cancelled\n",
    "- 'reserved_room_type' - reserved room type\n",
    "- 'assigned_room_type' - assigned room type\n",
    "- 'booking_changes' - number of changes to the booking\n",
    "- 'deposit_type' - deposit type\n",
    "- 'agent' - travel agency ID\n",
    "- 'company' - ID of the entity that made/pays the booking\n",
    "- 'days_in_waiting_list' - number of days it took to confirm the booking\n",
    "- 'customer_type' - customer type\n",
    "- 'adr' - Average Daily Rate\n",
    "- 'required_car_parking_spaces' - number of parking spaces needed\n",
    "- 'total_of_special_requests' - number of special requests\n",
    "- 'reservation_status' - last reservation status\n",
    "- 'reservation_status_date' - date at which the las reservation status was set\n",
    "\n",
    "\n",
    "With this information at hand, we can further categorize the data, helping us to better understand what the data can tell us.\n",
    "\n",
    "# Entries, Metrics & Dimensions\n",
    "\n",
    "## Entities: \n",
    "- Bookings, \n",
    "- Guests (dimension)\n",
    "- Hotels (dimension)\n",
    "- Distribution Channels (dimension)\n",
    "\n",
    "## Metrics: \n",
    "- average_daily_rate\n",
    "- cancellations\n",
    "- distribution channels\n",
    "- ...\n",
    "\n",
    "## Dimensions: \n",
    "- guests \n",
    "- agents \n",
    "- timing\n",
    "- ...\n",
    "\n",
    "# Column Categorization\n",
    "- Booking related\n",
    "- Timing related\n",
    "- Guest/Targetgroup related"
   ],
   "cell_type": "markdown",
   "metadata": {}
  },
  {
   "source": [
    "# define group variable \"booking\"\n",
    "booking = ['is_canceled', 'market_segment','deposit_type', 'booking_changes', \n",
    "            'agent', 'days_in_waiting_list', 'reservation_status', 'hotel', \n",
    "            'assigned_room_type', 'distribution_channel', 'adr']\n",
    "\n",
    "# define group variable \"time\"\n",
    "time = ['lead_time', 'arrival_date_year', 'arrival_date_month', \n",
    "        'arrival_date_week_number', 'arrival_date_day_of_month', \n",
    "        'stays_in_weekend_nights', 'stays_in_week_nights', 'reservation_status_date']\n",
    "\n",
    "# define group variable \"guests\"\n",
    "guest = ['adults', 'children', 'babies', 'country', 'is_repeated_guest', \n",
    "        'previous_cancellations', 'company', 'required_car_parking_spaces', \n",
    "        'meal', 'reserved_room_type'] "
   ],
   "cell_type": "code",
   "metadata": {},
   "execution_count": 6,
   "outputs": []
  },
  {
   "source": [
    "With these groups, we can now create some basic insights about the data.\n",
    "We will query for dinsinct values, counts and summary statistics of numerical and categorical columns."
   ],
   "cell_type": "markdown",
   "metadata": {}
  },
  {
   "cell_type": "code",
   "execution_count": 7,
   "metadata": {},
   "outputs": [],
   "source": [
    "# Since we are going to use different metrics depending on the datatype, functions to get these appropriate columnnames can be handy.\n",
    "# The basic idea here was to spend more time with one column-group, think about how to modularize functions so they can be used in multiple ways, to create a recipe that can be used regardless of the data at hand. This recipe can then be applied to the other column-groups.\n",
    "\n",
    "def get_categoricals(data_df):\n",
    "    \"\"\"This function takes as input a spark dataframe and returns a list of its StringType columnames\"\"\"\n",
    "    categoricals = [column.name for column in data_df.schema.fields if isinstance(column.dataType, StringType)]\n",
    "    return categoricals\n",
    "\n",
    "\n",
    "def get_numericals(data_df):\n",
    "    \"\"\"This function takes as input a spark dataframe and returns a list of its IntegerType and DoubleType columnames\"\"\"\n",
    "    numericals =  [column.name for column in data_df.schema.fields if isinstance(column.dataType, (IntegerType, DoubleType))]\n",
    "    return numericals\n",
    "\n",
    "def get_min_max(data_df):\n",
    "    for category in get_categoricals(data_df):\n",
    "        first = data_df.groupBy(category).count().sort(desc('count')).first()\n",
    "        last = data_df.groupBy(category).count().sort(asc('count')).first()\n",
    "        display(Markdown(\"\"\"\n",
    "| %s | %s |\n",
    "|----|----|\n",
    "| %s | %s |\n",
    "\"\"\" % (f\"least_{category}\", f\"most_{category}\",\n",
    "    \"%s (%d occurrences)\" % (first[category], first[\"count\"]), \n",
    "    \"%s (%d occurrences)\" % (last[category], last[\"count\"]))))\n",
    "\n"
   ]
  },
  {
   "source": [
    "# Basic profiling of booking-related data\n"
   ],
   "cell_type": "markdown",
   "metadata": {}
  },
  {
   "cell_type": "code",
   "execution_count": 8,
   "metadata": {},
   "outputs": [
    {
     "output_type": "stream",
     "name": "stdout",
     "text": [
      "\n",
      " print the most occuring entries of the whole booking group in descending order\n",
      "+-----------+--------------+------------+---------------+-----+--------------------+------------------+------------+------------------+--------------------+-----+-----+\n",
      "|is_canceled|market_segment|deposit_type|booking_changes|agent|days_in_waiting_list|reservation_status|       hotel|assigned_room_type|distribution_channel|  adr|count|\n",
      "+-----------+--------------+------------+---------------+-----+--------------------+------------------+------------+------------------+--------------------+-----+-----+\n",
      "|          1|        Groups|  Non Refund|              0|    1|                   0|          Canceled|  City Hotel|                 A|               TA/TO| 62.0| 2311|\n",
      "|          1|        Groups|  No Deposit|              0|    1|                   0|          Canceled|  City Hotel|                 A|               TA/TO| 62.0|  662|\n",
      "|          0|     Corporate|  No Deposit|              0| NULL|                   0|         Check-Out|  City Hotel|                 A|           Corporate| 65.0|  434|\n",
      "|          0| Offline TA/TO|  No Deposit|              0|    6|                   0|         Check-Out|  City Hotel|                 A|               TA/TO|115.0|  403|\n",
      "|          0|        Groups|  No Deposit|              0|    1|                   0|         Check-Out|  City Hotel|                 A|               TA/TO| 62.0|  388|\n",
      "|          0| Offline TA/TO|  No Deposit|              0|   28|                   0|         Check-Out|  City Hotel|                 D|               TA/TO| 75.0|  362|\n",
      "|          1| Offline TA/TO|  Non Refund|              0|    6|                   0|          Canceled|  City Hotel|                 A|               TA/TO|101.5|  302|\n",
      "|          0|     Online TA|  No Deposit|              0|  240|                   0|         Check-Out|Resort Hotel|                 D|               TA/TO| 48.0|  254|\n",
      "|          1|        Groups|  Non Refund|              0|    1|                   0|          Canceled|  City Hotel|                 A|               TA/TO| 62.8|  254|\n",
      "|          1|        Groups|  Non Refund|              0|    1|                   0|          Canceled|  City Hotel|                 A|               TA/TO|170.0|  254|\n",
      "+-----------+--------------+------------+---------------+-----+--------------------+------------------+------------+------------------+--------------------+-----+-----+\n",
      "only showing top 10 rows\n",
      "\n",
      "\n",
      " print the highest and lowest counts of categorical columns belonging to the booking-related group\n"
     ]
    },
    {
     "output_type": "display_data",
     "data": {
      "text/plain": "<IPython.core.display.Markdown object>",
      "text/markdown": "\n| least_market_segment | most_market_segment |\n|----|----|\n| Online TA (56477 occurrences) | Undefined (2 occurrences) |\n"
     },
     "metadata": {}
    },
    {
     "output_type": "display_data",
     "data": {
      "text/plain": "<IPython.core.display.Markdown object>",
      "text/markdown": "\n| least_deposit_type | most_deposit_type |\n|----|----|\n| No Deposit (104641 occurrences) | Refundable (162 occurrences) |\n"
     },
     "metadata": {}
    },
    {
     "output_type": "display_data",
     "data": {
      "text/plain": "<IPython.core.display.Markdown object>",
      "text/markdown": "\n| least_agent | most_agent |\n|----|----|\n| 9 (31961 occurrences) | 451 (1 occurrences) |\n"
     },
     "metadata": {}
    },
    {
     "output_type": "display_data",
     "data": {
      "text/plain": "<IPython.core.display.Markdown object>",
      "text/markdown": "\n| least_reservation_status | most_reservation_status |\n|----|----|\n| Check-Out (75166 occurrences) | No-Show (1207 occurrences) |\n"
     },
     "metadata": {}
    },
    {
     "output_type": "display_data",
     "data": {
      "text/plain": "<IPython.core.display.Markdown object>",
      "text/markdown": "\n| least_hotel | most_hotel |\n|----|----|\n| City Hotel (79330 occurrences) | Resort Hotel (40060 occurrences) |\n"
     },
     "metadata": {}
    },
    {
     "output_type": "display_data",
     "data": {
      "text/plain": "<IPython.core.display.Markdown object>",
      "text/markdown": "\n| least_assigned_room_type | most_assigned_room_type |\n|----|----|\n| A (74053 occurrences) | L (1 occurrences) |\n"
     },
     "metadata": {}
    },
    {
     "output_type": "display_data",
     "data": {
      "text/plain": "<IPython.core.display.Markdown object>",
      "text/markdown": "\n| least_distribution_channel | most_distribution_channel |\n|----|----|\n| TA/TO (97870 occurrences) | Undefined (5 occurrences) |\n"
     },
     "metadata": {}
    },
    {
     "output_type": "stream",
     "name": "stdout",
     "text": [
      "\n",
      " show number of unique categorical-values per column\n",
      "+--------------+------------+-----+------------------+-----+------------------+--------------------+\n",
      "|market_segment|deposit_type|agent|reservation_status|hotel|assigned_room_type|distribution_channel|\n",
      "+--------------+------------+-----+------------------+-----+------------------+--------------------+\n",
      "|             8|           3|  334|                 3|    2|                12|                   5|\n",
      "+--------------+------------+-----+------------------+-----+------------------+--------------------+\n",
      "\n",
      "\n",
      " print summary statistics of booking-numricals\n",
      "+-------+-------------------+-------------------+--------------------+------------------+\n",
      "|summary|        is_canceled|    booking_changes|days_in_waiting_list|               adr|\n",
      "+-------+-------------------+-------------------+--------------------+------------------+\n",
      "|  count|             119390|             119390|              119390|            119390|\n",
      "|   mean|0.37041628277075134|0.22112404724013737|   2.321149174972778|101.83112153446218|\n",
      "| stddev|0.48291822659259803| 0.6523055726747705|  17.594720878776243| 50.53579028554872|\n",
      "|    min|                  0|                  0|                   0|             -6.38|\n",
      "|    25%|                  0|                  0|                   0|             69.29|\n",
      "|    50%|                  0|                  0|                   0|              94.5|\n",
      "|    75%|                  1|                  0|                   0|             126.0|\n",
      "|    max|                  1|                 21|                 391|            5400.0|\n",
      "+-------+-------------------+-------------------+--------------------+------------------+\n",
      "\n"
     ]
    }
   ],
   "source": [
    "print('\\n print the most occuring entries of the whole booking group in descending order')\n",
    "data_df.groupBy(booking).count().sort(desc('count')).show(10)\n",
    "\n",
    "print('\\n print the highest and lowest counts of categorical columns belonging to the booking-related group')\n",
    "get_min_max(data_df[booking])\n",
    "\n",
    "print('\\n show number of unique categorical-values per column')\n",
    "data_df.select([countDistinct(c).alias(c) for c in get_categoricals(data_df[booking])]).show()\n",
    "\n",
    "print('\\n print summary statistics of booking-numricals')\n",
    "data_df.select(get_numericals(data_df[booking])).summary().show()\n"
   ]
  },
  {
   "source": [
    "# Basic profiling of timing-related data"
   ],
   "cell_type": "markdown",
   "metadata": {}
  },
  {
   "cell_type": "code",
   "execution_count": 9,
   "metadata": {},
   "outputs": [
    {
     "output_type": "stream",
     "name": "stdout",
     "text": [
      "\n",
      " print the most occuring entries of the whole timing group in descending order\n",
      "+---------+-----------------+------------------+------------------------+-------------------------+-----------------------+--------------------+-----------------------+-----+\n",
      "|lead_time|arrival_date_year|arrival_date_month|arrival_date_week_number|arrival_date_day_of_month|stays_in_weekend_nights|stays_in_week_nights|reservation_status_date|count|\n",
      "+---------+-----------------+------------------+------------------------+-------------------------+-----------------------+--------------------+-----------------------+-----+\n",
      "|      277|             2016|          November|                      46|                        7|                      1|                   2|             2016-04-04|  180|\n",
      "|       68|             2016|          February|                       8|                       17|                      0|                   2|             2016-01-06|  150|\n",
      "|       37|             2016|           October|                      42|                       13|                      0|                   3|             2016-09-06|  135|\n",
      "|      316|             2016|               May|                      22|                       26|                      0|                   3|             2016-05-29|  121|\n",
      "|      188|             2016|              June|                      25|                       15|                      0|                   2|             2016-01-18|  110|\n",
      "|      158|             2016|               May|                      22|                       24|                      0|                   2|             2016-01-18|  101|\n",
      "|       34|             2015|          December|                      50|                        8|                      0|                   2|             2015-11-17|  100|\n",
      "|       28|             2017|             March|                       9|                        2|                      0|                   3|             2017-02-02|   99|\n",
      "|       38|             2017|           January|                       2|                       14|                      0|                   1|             2016-12-07|   99|\n",
      "|      156|             2017|             April|                      17|                       26|                      0|                   3|             2016-11-21|   99|\n",
      "+---------+-----------------+------------------+------------------------+-------------------------+-----------------------+--------------------+-----------------------+-----+\n",
      "only showing top 10 rows\n",
      "\n",
      "\n",
      " print the highest and lowest counts of categorical columns belonging to the timing-related group\n"
     ]
    },
    {
     "output_type": "display_data",
     "data": {
      "text/plain": "<IPython.core.display.Markdown object>",
      "text/markdown": "\n| least_arrival_date_month | most_arrival_date_month |\n|----|----|\n| August (13877 occurrences) | January (5929 occurrences) |\n"
     },
     "metadata": {}
    },
    {
     "output_type": "display_data",
     "data": {
      "text/plain": "<IPython.core.display.Markdown object>",
      "text/markdown": "\n| least_reservation_status_date | most_reservation_status_date |\n|----|----|\n| 2015-10-21 (1461 occurrences) | 2015-02-09 (1 occurrences) |\n"
     },
     "metadata": {}
    },
    {
     "output_type": "stream",
     "name": "stdout",
     "text": [
      "\n",
      " show number of unique categorical-values per column\n",
      "+------------------+-----------------------+\n",
      "|arrival_date_month|reservation_status_date|\n",
      "+------------------+-----------------------+\n",
      "|                12|                    926|\n",
      "+------------------+-----------------------+\n",
      "\n",
      "\n",
      " print summary statistics of time-numricals\n",
      "+-------+------------------+------------------+------------------------+-------------------------+-----------------------+--------------------+\n",
      "|summary|         lead_time| arrival_date_year|arrival_date_week_number|arrival_date_day_of_month|stays_in_weekend_nights|stays_in_week_nights|\n",
      "+-------+------------------+------------------+------------------------+-------------------------+-----------------------+--------------------+\n",
      "|  count|            119390|            119390|                  119390|                   119390|                 119390|              119390|\n",
      "|   mean|104.01141636652986| 2016.156554150264|       27.16517296255968|       15.798241058715135|     0.9275986263506156|   2.500301532791691|\n",
      "| stddev| 106.8630970479881|0.7074759445220408|      13.605138355497665|        8.780829470578343|     0.9986134945978791|  1.9082856150479042|\n",
      "|    min|                 0|              2015|                       1|                        1|                      0|                   0|\n",
      "|    25%|                18|              2016|                      16|                        8|                      0|                   1|\n",
      "|    50%|                69|              2016|                      28|                       16|                      1|                   2|\n",
      "|    75%|               160|              2017|                      38|                       23|                      2|                   3|\n",
      "|    max|               737|              2017|                      53|                       31|                     19|                  50|\n",
      "+-------+------------------+------------------+------------------------+-------------------------+-----------------------+--------------------+\n",
      "\n"
     ]
    }
   ],
   "source": [
    "print('\\n print the most occuring entries of the whole timing group in descending order')\n",
    "data_df.groupBy(time).count().sort(desc('count')).show(10)\n",
    "\n",
    "print('\\n print the highest and lowest counts of categorical columns belonging to the timing-related group')\n",
    "get_min_max(data_df[time])\n",
    "\n",
    "print('\\n show number of unique categorical-values per column')\n",
    "data_df.select([countDistinct(c).alias(c) for c in get_categoricals(data_df[time])]).show()\n",
    "\n",
    "print('\\n print summary statistics of time-numricals')\n",
    "data_df.select(get_numericals(data_df[time])).summary().show()\n"
   ]
  },
  {
   "source": [
    "# Basic profiling of guest-related data"
   ],
   "cell_type": "markdown",
   "metadata": {}
  },
  {
   "cell_type": "code",
   "execution_count": 10,
   "metadata": {},
   "outputs": [
    {
     "output_type": "stream",
     "name": "stdout",
     "text": [
      "\n",
      " print the most occuring entries of the whole guest group in descending order\n",
      "+------+--------+------+-------+-----------------+----------------------+-------+---------------------------+----+------------------+-----+\n",
      "|adults|children|babies|country|is_repeated_guest|previous_cancellations|company|required_car_parking_spaces|meal|reserved_room_type|count|\n",
      "+------+--------+------+-------+-----------------+----------------------+-------+---------------------------+----+------------------+-----+\n",
      "|     2|       0|     0|    PRT|                0|                     0|   NULL|                          0|  BB|                 A|16119|\n",
      "|     1|       0|     0|    PRT|                0|                     0|   NULL|                          0|  BB|                 A| 5462|\n",
      "|     2|       0|     0|    FRA|                0|                     0|   NULL|                          0|  BB|                 A| 3781|\n",
      "|     2|       0|     0|    PRT|                0|                     1|   NULL|                          0|  BB|                 A| 3166|\n",
      "|     2|       0|     0|    GBR|                0|                     0|   NULL|                          0|  BB|                 A| 3141|\n",
      "|     2|       0|     0|    PRT|                0|                     0|   NULL|                          0|  HB|                 A| 2733|\n",
      "|     2|       0|     0|    DEU|                0|                     0|   NULL|                          0|  BB|                 A| 2176|\n",
      "|     2|       0|     0|    ESP|                0|                     0|   NULL|                          0|  BB|                 A| 2174|\n",
      "|     2|       0|     0|    PRT|                0|                     0|   NULL|                          0|  BB|                 D| 1946|\n",
      "|     2|       0|     0|    GBR|                0|                     0|   NULL|                          0|  BB|                 D| 1753|\n",
      "+------+--------+------+-------+-----------------+----------------------+-------+---------------------------+----+------------------+-----+\n",
      "only showing top 10 rows\n",
      "\n",
      "\n",
      " print the highest and lowest counts of categorical columns belonging to the guest-related group\n"
     ]
    },
    {
     "output_type": "display_data",
     "data": {
      "text/plain": "<IPython.core.display.Markdown object>",
      "text/markdown": "\n| least_children | most_children |\n|----|----|\n| 0 (110796 occurrences) | 10 (1 occurrences) |\n"
     },
     "metadata": {}
    },
    {
     "output_type": "display_data",
     "data": {
      "text/plain": "<IPython.core.display.Markdown object>",
      "text/markdown": "\n| least_country | most_country |\n|----|----|\n| PRT (48590 occurrences) | GUY (1 occurrences) |\n"
     },
     "metadata": {}
    },
    {
     "output_type": "display_data",
     "data": {
      "text/plain": "<IPython.core.display.Markdown object>",
      "text/markdown": "\n| least_company | most_company |\n|----|----|\n| NULL (112593 occurrences) | 54 (1 occurrences) |\n"
     },
     "metadata": {}
    },
    {
     "output_type": "display_data",
     "data": {
      "text/plain": "<IPython.core.display.Markdown object>",
      "text/markdown": "\n| least_meal | most_meal |\n|----|----|\n| BB (92310 occurrences) | FB (798 occurrences) |\n"
     },
     "metadata": {}
    },
    {
     "output_type": "display_data",
     "data": {
      "text/plain": "<IPython.core.display.Markdown object>",
      "text/markdown": "\n| least_reserved_room_type | most_reserved_room_type |\n|----|----|\n| A (85994 occurrences) | L (6 occurrences) |\n"
     },
     "metadata": {}
    },
    {
     "output_type": "stream",
     "name": "stdout",
     "text": [
      "\n",
      " show number of unique categorical-values per column\n",
      "+--------+-------+-------+----+------------------+\n",
      "|children|country|company|meal|reserved_room_type|\n",
      "+--------+-------+-------+----+------------------+\n",
      "|       6|    178|    353|   5|                10|\n",
      "+--------+-------+-------+----+------------------+\n",
      "\n",
      "\n",
      " print summary statistics of guest-numricals\n",
      "+-------+------------------+--------------------+-------------------+----------------------+---------------------------+\n",
      "|summary|            adults|              babies|  is_repeated_guest|previous_cancellations|required_car_parking_spaces|\n",
      "+-------+------------------+--------------------+-------------------+----------------------+---------------------------+\n",
      "|  count|            119390|              119390|             119390|                119390|                     119390|\n",
      "|   mean|1.8564033838679956|0.007948739425412514|0.03191222045397437|   0.08711784906608594|        0.06251779881062065|\n",
      "| stddev|0.5792609988327531|  0.0974361913012642|0.17576714541065672|    0.8443363841545121|        0.24529114746749414|\n",
      "|    min|                 0|                   0|                  0|                     0|                          0|\n",
      "|    25%|                 2|                   0|                  0|                     0|                          0|\n",
      "|    50%|                 2|                   0|                  0|                     0|                          0|\n",
      "|    75%|                 2|                   0|                  0|                     0|                          0|\n",
      "|    max|                55|                  10|                  1|                    26|                          8|\n",
      "+-------+------------------+--------------------+-------------------+----------------------+---------------------------+\n",
      "\n"
     ]
    }
   ],
   "source": [
    "print('\\n print the most occuring entries of the whole guest group in descending order')\n",
    "data_df.groupBy(guest).count().sort(desc('count')).show(10)\n",
    "\n",
    "print('\\n print the highest and lowest counts of categorical columns belonging to the guest-related group')\n",
    "get_min_max(data_df[guest])\n",
    "\n",
    "print('\\n show number of unique categorical-values per column')\n",
    "data_df.select([countDistinct(c).alias(c) for c in get_categoricals(data_df[guest])]).show()\n",
    "\n",
    "print('\\n print summary statistics of guest-numricals')\n",
    "data_df.select(get_numericals(data_df[guest])).summary().show()"
   ]
  },
  {
   "source": [
    "# Business Question 1: what does our customer mix look like with regards to profitability?\n",
    "\n",
    "profitability is going to be categorized by the colum \"average-daily-rate\" (adr) as follows:\n",
    "\n",
    "- \"no business\"               -> adr_pp = (-infinity,0)\n",
    "- \"not profitable\"            -> adr_pp = (0, 28)\n",
    "- \"break even\"                -> adr_pp = (28,45) \n",
    "- \"profitable\"                -> adr_pp = (45,62) \n",
    "- \"prioriy\"                   -> adr_pp = (62,85)\n",
    "- \"VIP\"                       -> adr_pp = (85,+infinity)\n",
    "\n"
   ],
   "cell_type": "markdown",
   "metadata": {}
  },
  {
   "cell_type": "code",
   "execution_count": 11,
   "metadata": {},
   "outputs": [
    {
     "output_type": "stream",
     "name": "stdout",
     "text": [
      "Print the customer mix according to the new categorization\n",
      "+--------------+-----+\n",
      "| profitability|count|\n",
      "+--------------+-----+\n",
      "|    break even|37655|\n",
      "|    profitable|32325|\n",
      "|       prioriy|23224|\n",
      "|           VIP|15347|\n",
      "|not profitable| 9028|\n",
      "|   no business| 1811|\n",
      "+--------------+-----+\n",
      "\n"
     ]
    }
   ],
   "source": [
    "# 1. Let's calculate the avere-daily-rate per guest, (currently per booking).\n",
    "# for this we need to create a total guests column, that takes into consideration, that children do not count as a \"full guest\" (also called PAX)\n",
    "# then we devide the adr by PAX and categorize accordingly\n",
    "# guest = guest + [\"profitability\"]\n",
    "\n",
    "bq1_df = data_df.withColumn(\"PAX\", (col(\"adults\") + 0.5 * col(\"children\") + 0.2 * col(\"babies\")))\\\n",
    "                .withColumn(\"adr_pp\", (col(\"adr\") / col(\"PAX\")))\\\n",
    "                    .withColumn(\"profitability\", \n",
    "                     when(col(\"adr_pp\")<=0,\"no business\")\n",
    "                    .when((col(\"adr_pp\")>0) & (col(\"adr_pp\")<=28),\"not profitable\")\n",
    "                    .when((col(\"adr_pp\")>28) & (col(\"adr_pp\")<=45),\"break even\")\n",
    "                    .when((col(\"adr_pp\")>45) & (col(\"adr_pp\")<=62),\"profitable\")\n",
    "                    .when((col(\"adr_pp\")>62) & (col(\"adr_pp\")<=85),\"prioriy\")\n",
    "                    .otherwise(\"VIP\"))\n",
    "\n",
    "print('Print the customer mix according to the new categorization')\n",
    "bq1_df.groupBy(\"profitability\").count().sort(desc('count')).show(10)"
   ]
  },
  {
   "source": [
    "# Business Question 2: during which month do we get the highest ratio of profitable bookings"
   ],
   "cell_type": "markdown",
   "metadata": {}
  },
  {
   "cell_type": "code",
   "execution_count": 12,
   "metadata": {},
   "outputs": [
    {
     "output_type": "stream",
     "name": "stdout",
     "text": [
      "+-------------------+--------+------------+-----+\n|month(booking_date)|sum(VIP)|sum(non_VIP)|ratio|\n+-------------------+--------+------------+-----+\n|                  6|    1562|        4501| 0.26|\n|                  4|    1775|        6847| 0.21|\n|                  5|    1641|        6212| 0.21|\n|                  7|    1590|        8228| 0.16|\n|                  8|    1243|        6727| 0.16|\n|                  9|    1181|        7004| 0.14|\n|                  3|    1332|        8589| 0.13|\n|                 12|     836|        8332| 0.09|\n|                  2|    1213|       12255| 0.09|\n|                 11|     796|        8709| 0.08|\n|                 10|     990|       11139| 0.08|\n|                  1|    1188|       15500| 0.07|\n+-------------------+--------+------------+-----+\n\n"
     ]
    }
   ],
   "source": [
    "# we can reuse the df from business question 1 - however there are a few things to do:\n",
    "# 1. cast dateTypes on the according columns, to create a date column\n",
    "# 2. Calculate the booking date by subtracting the lead time from the \n",
    "# Group the data so it answers the Business Question\n",
    "\n",
    "# first create a proper month column\n",
    "bq2_df = bq1_df.withColumn(\"month\",\n",
    "            when(col(\"arrival_date_month\") == \"January\", 1)\n",
    "            .when(col(\"arrival_date_month\") == \"February\", 2)\n",
    "            .when(col(\"arrival_date_month\")== \"March\", 3)\n",
    "            .when(col(\"arrival_date_month\") == \"April\", 4)\n",
    "            .when(col(\"arrival_date_month\")== \"May\", 5)\n",
    "            .when(col(\"arrival_date_month\")== \"June\", 6)\n",
    "            .when(col(\"arrival_date_month\")== \"July\", 7)\n",
    "            .when(col(\"arrival_date_month\")== \"August\", 8)\n",
    "            .when(col(\"arrival_date_month\") == \"September\", 9)\n",
    "            .when(col(\"arrival_date_month\") == \"October\", 10)\n",
    "            .when(col(\"arrival_date_month\") == \"November\", 11)\n",
    "            .when(col(\"arrival_date_month\") == \"December\", 12))\n",
    "\n",
    "# next we can create a Date-colum \"booking_date\".\n",
    "# finally, we can calculate the booking date, by subtracting the lead_time from the booking_date \n",
    "    # expr() is needed in order to pass the column to date_add    \n",
    "bq2_df = bq2_df.withColumn(\"arrival_date\", date_format(concat_ws('-', bq2_df.arrival_date_year, bq2_df.month , bq2_df.arrival_date_day_of_month), 'yyyy-MM-dd'))\\\n",
    "                .withColumn(\"booking_date\", expr(\"date_add(to_date(arrival_date,'yyyy-MM-dd'),-cast(lead_time as int))\"))\\\n",
    "                \n",
    "\n",
    "\n",
    "# add dummy variables for profitability\n",
    "bq2_df = bq2_df.withColumn(\"VIP\", \n",
    "                    when(col(\"profitability\") == \"VIP\", 1).otherwise(0))\\\n",
    "                    .withColumn(\"non_VIP\", \n",
    "                    when(col(\"profitability\") != \"VIP\", 1).otherwise(0))\n",
    "\n",
    "\n",
    "# with the dataframe created above, we can finally go about answering the business question\n",
    "# calculate ratio of \"VIP\" per month\n",
    "ba2_df = bq2_df.groupBy(month(\"booking_date\")).sum(\"VIP\", \"non_VIP\")\n",
    "\n",
    "ba2_df.withColumn(\n",
    "    \"ratio\", round((col(\"sum(VIP)\") / (col(\"sum(VIP)\") + col(\"sum(non_VIP)\"))),2)\n",
    ").sort(desc(\"ratio\")).show()\n"
   ]
  },
  {
   "source": [
    "# Business Question 3: what are the profitability ratios of each group by country\n",
    "group by waitinglist, create profiling\n",
    "\n"
   ],
   "cell_type": "markdown",
   "metadata": {}
  },
  {
   "source": [
    "- use pivot & join\n",
    "- change prints to: display(Markdown(\"**Top 20 origin airports** with highest severe delayed (**unacceptable**) flights ratio (in \\%):\"))\n",
    "\n",
    "\n",
    "\"no business\" -> adr_pp = (-infinity,0)\n",
    "\"not profitable\" -> adr_pp = (0, 28)\n",
    "\"break even\" -> adr_pp = (28,45)\n",
    "\"profitable\" -> adr_pp = (45,62)\n",
    "\"prioriy\" -> adr_pp = (62,85)\n",
    "\"VIP\" -> adr_pp = (85,+infinity)"
   ],
   "cell_type": "markdown",
   "metadata": {}
  },
  {
   "cell_type": "code",
   "execution_count": 20,
   "metadata": {},
   "outputs": [
    {
     "output_type": "stream",
     "name": "stdout",
     "text": [
      "+-------+----+----------+-----------+--------------+-------+----------+\n|country| VIP|break even|no business|not profitable|prioriy|profitable|\n+-------+----+----------+-----------+--------------+-------+----------+\n|    PRT|6441|     17752|       1456|          3869|   8575|     10497|\n|    ESP|1520|      2424|         72|           703|   1809|      2040|\n|    FRA|1062|      3308|         42|           378|   2358|      3267|\n|    GBR|1006|      3925|         68|          1877|   1952|      3301|\n|    DEU| 803|      1945|         39|           327|   1338|      2835|\n|    ITA| 452|       893|         12|           119|    787|      1503|\n|    USA| 427|       424|          8|            75|    559|       604|\n|    IRL| 293|      1079|          5|           521|    562|       915|\n|    CHE| 292|       394|          5|            52|    429|       558|\n|    NLD| 289|       501|          4|           159|    457|       694|\n|    BEL| 252|       547|          8|           102|    552|       881|\n|    BRA| 215|       748|         12|           105|    415|       729|\n|    SWE| 158|       230|          4|            44|    293|       295|\n|    CHN| 148|       260|          2|            49|    265|       275|\n|     CN| 143|       343|          4|           138|    254|       397|\n|    AUT| 127|       319|          7|            46|    250|       514|\n|    AGO| 121|        59|          7|             6|     89|        80|\n|    RUS| 116|       165|          7|            16|    154|       174|\n|    POL| 102|       256|          9|            77|    175|       300|\n|    NOR|  76|       134|          1|            14|    168|       214|\n+-------+----+----------+-----------+--------------+-------+----------+\nonly showing top 20 rows\n\n"
     ]
    }
   ],
   "source": [
    "bq3_df = bq2_df.groupBy(\"country\")\\\n",
    "                .pivot(\"profitability\")\\\n",
    "                .agg(count(\"profitability\"))\\\n",
    "                .orderBy(col(\"VIP\").desc(), col(\"prioriy\").desc(), col(\"profitable\").desc(), col(\"break even\").desc(), col(\"not profitable\").desc())\\\n",
    "                .show()\n",
    "                "
   ]
  },
  {
   "cell_type": "code",
   "execution_count": null,
   "metadata": {},
   "outputs": [],
   "source": [
    "severeCrimeTimedDF.where((col(\"CrimeSeverity\") == 9) | (col(\"CrimeSeverity\") == 8) | (col(\"CrimeSeverity\") == 7) | (col(\"CrimeSeverity\") == 6))\\\n",
    ".na.drop()\\\n",
    ".groupBy(\"Intersection\",\"DayOfWeek\")\\\n",
    ".pivot(\"CrimeSeverity\", (\"9\", \"8\", \"7\", \"6\"))\\\n",
    ".agg(count(\"CrimeSeverity\").alias(\"NumOfOccurences\"))\\\n",
    ".orderBy(col(\"9\").desc(), col(\"8\").desc(), col(\"7\").desc(), col(\"6\").desc())\\\n",
    ".show(20, False)"
   ]
  }
 ]
}